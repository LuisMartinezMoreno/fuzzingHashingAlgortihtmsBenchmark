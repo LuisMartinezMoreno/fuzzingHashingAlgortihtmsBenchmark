{
 "cells": [
  {
   "cell_type": "code",
   "execution_count": 1,
   "metadata": {},
   "outputs": [],
   "source": [
    "from Algorithms import nilsimsaBM, ssdeepBM, tlshBM\n",
    "import emlReader"
   ]
  },
  {
   "cell_type": "markdown",
   "metadata": {},
   "source": [
    "We are going to use 5 different files.\n",
    "From 1 to 4 there are emails\n",
    "1- The genuine email\n",
    "2- Malicious From email address\n",
    "3- Malicious links sent\n",
    "4- Malicious From email address and malicious links sent\n",
    "\n",
    "5- It is a regular file, a txt like file\n"
   ]
  },
  {
   "cell_type": "code",
   "execution_count": 2,
   "metadata": {},
   "outputs": [],
   "source": [
    "def executeAlgorithms(files):\n",
    "    archives = [\"emails/email1.eml\",\"emails/email2.eml\",\"emails/email3.eml\",\"emails/email4.eml\",\"emails/email5.eml\"]\n",
    "    for file in range(0, len(files)):\n",
    "        print(\"******************************************************\")\n",
    "        print(\"*********** Testing file \"+str(archives[file])+\" **********\")\n",
    "        print(\"******************************************************\")\n",
    "        nilsimsaBM.execute(files[0], files[file], archives[file])\n",
    "        ssdeepBM.execute(files[0], files[file], archives[file])\n",
    "        tlshBM.execute(files[0], files[file], archives[file])\n",
    "\n",
    "        \n"
   ]
  },
  {
   "cell_type": "code",
   "execution_count": 3,
   "metadata": {},
   "outputs": [],
   "source": [
    "def main():\n",
    "    files = [\"emails/email1.eml\",\"emails/email2.eml\",\"emails/email3.eml\",\"emails/email4.eml\",\"emails/email5.eml\"]\n",
    "    readFiles = []\n",
    "    for f in files:\n",
    "        email = emlReader.eml_to_txt(f)\n",
    "        readFiles.append(email)\n",
    "    \n",
    "    executeAlgorithms(readFiles)\n"
   ]
  },
  {
   "cell_type": "code",
   "execution_count": 4,
   "metadata": {},
   "outputs": [
    {
     "name": "stdout",
     "output_type": "stream",
     "text": [
      "******************************************************\n",
      "*********** Testing file emails/email1.eml **********\n",
      "******************************************************\n",
      "====== Nilsima Similitude result for the comparison (the closer the 128 the better)======\n",
      "128\n",
      "No problems detected\n",
      "====== SSDEEP Similitude result for the comparison (the closer the 100 the better)======\n",
      "100\n",
      "No problems detected\n",
      "====== TLSH Similitude result for the comparison (the closer the 0 the more similar)======\n",
      "0\n",
      "No problems detected\n",
      "******************************************************\n",
      "*********** Testing file emails/email2.eml **********\n",
      "******************************************************\n",
      "====== Nilsima Similitude result for the comparison (the closer the 128 the better)======\n",
      "128\n",
      "No problems detected\n",
      "====== SSDEEP Similitude result for the comparison (the closer the 100 the better)======\n",
      "100\n",
      "No problems detected\n",
      "====== TLSH Similitude result for the comparison (the closer the 0 the more similar)======\n",
      "0\n",
      "No problems detected\n",
      "******************************************************\n",
      "*********** Testing file emails/email3.eml **********\n",
      "******************************************************\n",
      "====== Nilsima Similitude result for the comparison (the closer the 128 the better)======\n",
      "124\n",
      "There are some differences, we are working on it \n",
      "Email from an unknown source: spotify_fake.com, attackers.com, malicious.com, not_suspicious.com\n",
      " Email cointaning an unknown source: play.google_fake.com\n",
      "====== SSDEEP Similitude result for the comparison (the closer the 100 the better)======\n",
      "99\n",
      "There are some differences, we are working on it \n",
      "Email from an unknown source: spotify_fake.com, attackers.com, malicious.com, not_suspicious.com\n",
      " Email cointaning an unknown source: play.google_fake.com\n",
      "====== TLSH Similitude result for the comparison (the closer the 0 the more similar)======\n",
      "3\n",
      "We have detected some differences, we are working on it \n",
      "Email from an unknown source: spotify_fake.com, attackers.com, malicious.com, not_suspicious.com\n",
      " Email cointaning an unknown source: play.google_fake.com\n",
      "******************************************************\n",
      "*********** Testing file emails/email4.eml **********\n",
      "******************************************************\n",
      "====== Nilsima Similitude result for the comparison (the closer the 128 the better)======\n",
      "15\n",
      "There are some differences, we are working on it \n",
      "This Email does have the expected format\n",
      "====== SSDEEP Similitude result for the comparison (the closer the 100 the better)======\n",
      "0\n",
      "There are some differences, we are working on it \n",
      "This Email does have the expected format\n",
      "====== TLSH Similitude result for the comparison (the closer the 0 the more similar)======\n",
      "307\n",
      "We have detected some differences, we are working on it \n",
      "This Email does have the expected format\n"
     ]
    }
   ],
   "source": [
    "if __name__ == \"__main__\":\n",
    "    main()"
   ]
  }
 ],
 "metadata": {
  "kernelspec": {
   "display_name": "Python 3",
   "language": "python",
   "name": "python3"
  },
  "language_info": {
   "codemirror_mode": {
    "name": "ipython",
    "version": 3
   },
   "file_extension": ".py",
   "mimetype": "text/x-python",
   "name": "python",
   "nbconvert_exporter": "python",
   "pygments_lexer": "ipython3",
   "version": "3.11.3"
  }
 },
 "nbformat": 4,
 "nbformat_minor": 2
}
